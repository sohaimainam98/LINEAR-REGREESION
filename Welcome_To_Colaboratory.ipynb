{
  "nbformat": 4,
  "nbformat_minor": 0,
  "metadata": {
    "colab": {
      "name": "Welcome To Colaboratory",
      "provenance": [],
      "collapsed_sections": [],
      "toc_visible": true,
      "include_colab_link": true
    },
    "kernelspec": {
      "display_name": "Python 3",
      "name": "python3"
    }
  },
  "cells": [
    {
      "cell_type": "markdown",
      "metadata": {
        "id": "view-in-github",
        "colab_type": "text"
      },
      "source": [
        "<a href=\"https://colab.research.google.com/github/sohaimainam98/LINEAR-REGREESION/blob/main/Welcome_To_Colaboratory.ipynb\" target=\"_parent\"><img src=\"https://colab.research.google.com/assets/colab-badge.svg\" alt=\"Open In Colab\"/></a>"
      ]
    },
    {
      "cell_type": "markdown",
      "metadata": {
        "id": "5fCEDCU_qrC0"
      },
      "source": [
        "<p><img alt=\"Colaboratory logo\" height=\"45px\" src=\"/img/colab_favicon.ico\" align=\"left\" hspace=\"10px\" vspace=\"0px\"></p>\n",
        "\n",
        "<h1>What is Colaboratory?</h1>\n",
        "\n",
        "Colaboratory, or \"Colab\" for short, allows you to write and execute Python in your browser, with \n",
        "- Zero configuration required\n",
        "- Free access to GPUs\n",
        "- Easy sharing\n",
        "\n",
        "Whether you're a **student**, a **data scientist** or an **AI researcher**, Colab can make your work easier. Watch [Introduction to Colab](https://www.youtube.com/watch?v=inN8seMm7UI) to learn more, or just get started below!"
      ]
    },
    {
      "cell_type": "markdown",
      "metadata": {
        "id": "GJBs_flRovLc"
      },
      "source": [
        "## **Getting started**\n",
        "\n",
        "The document you are reading is not a static web page, but an interactive environment called a **Colab notebook** that lets you write and execute code.\n",
        "\n",
        "For example, here is a **code cell** with a short Python script that computes a value, stores it in a variable, and prints the result:"
      ]
    },
    {
      "cell_type": "code",
      "metadata": {
        "colab": {
          "base_uri": "https://localhost:8080/",
          "height": 34
        },
        "id": "gJr_9dXGpJ05",
        "outputId": "9f556d03-ec67-4950-a485-cfdba9ddd14d"
      },
      "source": [
        "seconds_in_a_day = 24 * 60 * 60\n",
        "seconds_in_a_day"
      ],
      "execution_count": null,
      "outputs": [
        {
          "output_type": "execute_result",
          "data": {
            "text/plain": [
              "86400"
            ]
          },
          "metadata": {
            "tags": []
          },
          "execution_count": 0
        }
      ]
    },
    {
      "cell_type": "markdown",
      "metadata": {
        "id": "2fhs6GZ4qFMx"
      },
      "source": [
        "To execute the code in the above cell, select it with a click and then either press the play button to the left of the code, or use the keyboard shortcut \"Command/Ctrl+Enter\". To edit the code, just click the cell and start editing.\n",
        "\n",
        "Variables that you define in one cell can later be used in other cells:"
      ]
    },
    {
      "cell_type": "code",
      "metadata": {
        "colab": {
          "base_uri": "https://localhost:8080/",
          "height": 34
        },
        "id": "-gE-Ez1qtyIA",
        "outputId": "94cb2224-0edf-457b-90b5-0ac3488d8a97"
      },
      "source": [
        "seconds_in_a_week = 7 * seconds_in_a_day\n",
        "seconds_in_a_week"
      ],
      "execution_count": null,
      "outputs": [
        {
          "output_type": "execute_result",
          "data": {
            "text/plain": [
              "604800"
            ]
          },
          "metadata": {
            "tags": []
          },
          "execution_count": 0
        }
      ]
    },
    {
      "cell_type": "markdown",
      "metadata": {
        "id": "lSrWNr3MuFUS"
      },
      "source": [
        "Colab notebooks allow you to combine **executable code** and **rich text** in a single document, along with **images**, **HTML**, **LaTeX** and more. When you create your own Colab notebooks, they are stored in your Google Drive account. You can easily share your Colab notebooks with co-workers or friends, allowing them to comment on your notebooks or even edit them. To learn more, see [Overview of Colab](/notebooks/basic_features_overview.ipynb). To create a new Colab notebook you can use the File menu above, or use the following link: [create a new Colab notebook](http://colab.research.google.com#create=true).\n",
        "\n",
        "Colab notebooks are Jupyter notebooks that are hosted by Colab. To learn more about the Jupyter project, see [jupyter.org](https://www.jupyter.org)."
      ]
    },
    {
      "cell_type": "markdown",
      "metadata": {
        "id": "UdRyKR44dcNI"
      },
      "source": [
        "## Data science\n",
        "\n",
        "With Colab you can harness the full power of popular Python libraries to analyze and visualize data. The code cell below uses **numpy** to generate some random data, and uses **matplotlib** to visualize it. To edit the code, just click the cell and start editing."
      ]
    },
    {
      "cell_type": "code",
      "metadata": {
        "colab": {
          "base_uri": "https://localhost:8080/",
          "height": 281
        },
        "id": "C4HZx7Gndbrh",
        "outputId": "46abc637-6abd-41b2-9bba-80a7ae992e06"
      },
      "source": [
        "import numpy as np\n",
        "from matplotlib import pyplot as plt\n",
        "\n",
        "ys = 200 + np.random.randn(100)\n",
        "x = [x for x in range(len(ys))]\n",
        "\n",
        "plt.plot(x, ys, '-')\n",
        "plt.fill_between(x, ys, 195, where=(ys > 195), facecolor='g', alpha=0.6)\n",
        "\n",
        "plt.title(\"Sample Visualization\")\n",
        "plt.show()"
      ],
      "execution_count": null,
      "outputs": [
        {
          "output_type": "display_data",
          "data": {
            "image/png": "[encoded data removed]",
            "text/plain": [
              "<Figure size 432x288 with 1 Axes>"
            ]
          },
          "metadata": {
            "tags": []
          }
        }
      ]
    },
    {
      "cell_type": "markdown",
      "metadata": {
        "id": "4_kCnsPUqS6o"
      },
      "source": [
        "You can import your own data into Colab notebooks from your Google Drive account, including from spreadsheets, as well as from Github and many other sources. To learn more about importing data, and how Colab can be used for data science, see the links below under [Working with Data](#working-with-data)."
      ]
    },
    {
      "cell_type": "markdown",
      "metadata": {
        "id": "OwuxHmxllTwN"
      },
      "source": [
        "## Machine learning\n",
        "\n",
        "With Colab you can import an image dataset, train an image classifier on it, and evaluate the model, all in just [a few lines of code](https://colab.research.google.com/github/tensorflow/docs/blob/master/site/en/tutorials/quickstart/beginner.ipynb). Colab notebooks execute code on Google's cloud servers, meaning you can leverage the power of Google hardware, including [GPUs and TPUs](#using-accelerated-hardware), regardless of the power of your machine. All you need is a browser."
      ]
    },
    {
      "cell_type": "markdown",
      "metadata": {
        "id": "ufxBm1yRnruN"
      },
      "source": [
        "Colab is used extensively in the machine learning community with applications including:\n",
        "- Getting started with TensorFlow\n",
        "- Developing and training neural networks\n",
        "- Experimenting with TPUs\n",
        "- Disseminating AI research\n",
        "- Creating tutorials\n",
        "\n",
        "To see sample Colab notebooks that demonstrate machine learning applications, see the [machine learning examples](#machine-learning-examples) below."
      ]
    },
    {
      "cell_type": "markdown",
      "metadata": {
        "id": "-Rh3-Vt9Nev9"
      },
      "source": [
        "## More Resources\n",
        "\n",
        "### Working with Notebooks in Colab\n",
        "- [Overview of Colaboratory](/notebooks/basic_features_overview.ipynb)\n",
        "- [Guide to Markdown](/notebooks/markdown_guide.ipynb)\n",
        "- [Importing libraries and installing dependencies](/notebooks/snippets/importing_libraries.ipynb)\n",
        "- [Saving and loading notebooks in GitHub](https://colab.research.google.com/github/googlecolab/colabtools/blob/master/notebooks/colab-github-demo.ipynb)\n",
        "- [Interactive forms](/notebooks/forms.ipynb)\n",
        "- [Interactive widgets](/notebooks/widgets.ipynb)\n",
        "- <img src=\"/img/new.png\" height=\"20px\" align=\"left\" hspace=\"4px\" alt=\"New\"></img>\n",
        " [TensorFlow 2 in Colab](/notebooks/tensorflow_version.ipynb)\n",
        "\n",
        "<a name=\"working-with-data\"></a>\n",
        "### Working with Data\n",
        "- [Loading data: Drive, Sheets, and Google Cloud Storage](/notebooks/io.ipynb) \n",
        "- [Charts: visualizing data](/notebooks/charts.ipynb)\n",
        "- [Getting started with BigQuery](/notebooks/bigquery.ipynb)\n",
        "\n",
        "### Machine Learning Crash Course\n",
        "These are a few of the notebooks from Google's online Machine Learning course. See the [full course website](https://developers.google.com/machine-learning/crash-course/) for more.\n",
        "- [Intro to Pandas](/notebooks/mlcc/intro_to_pandas.ipynb)\n",
        "- [Tensorflow concepts](/notebooks/mlcc/tensorflow_programming_concepts.ipynb)\n",
        "- [First steps with TensorFlow](/notebooks/mlcc/first_steps_with_tensor_flow.ipynb)\n",
        "- [Intro to neural nets](/notebooks/mlcc/intro_to_neural_nets.ipynb)\n",
        "- [Intro to sparse data and embeddings](/notebooks/mlcc/intro_to_sparse_data_and_embeddings.ipynb)\n",
        "\n",
        "<a name=\"using-accelerated-hardware\"></a>\n",
        "### Using Accelerated Hardware\n",
        "- [TensorFlow with GPUs](/notebooks/gpu.ipynb)\n",
        "- [TensorFlow with TPUs](/notebooks/tpu.ipynb)"
      ]
    },
    {
      "cell_type": "markdown",
      "metadata": {
        "id": "P-H6Lw1vyNNd"
      },
      "source": [
        "<a name=\"machine-learning-examples\"></a>\n",
        "\n",
        "## Machine Learning Examples\n",
        "\n",
        "To see end-to-end examples of the interactive machine learning analyses that Colaboratory makes possible, check out these  tutorials using models from [TensorFlow Hub](https://tfhub.dev).\n",
        "\n",
        "A few featured examples:\n",
        "\n",
        "- [Retraining an Image Classifier](https://tensorflow.org/hub/tutorials/tf2_image_retraining): Build a Keras model on top of a pre-trained image classifier to distinguish flowers.\n",
        "- [Text Classification](https://tensorflow.org/hub/tutorials/tf2_text_classification): Classify IMDB movie reviews as either *positive* or *negative*.\n",
        "- [Style Transfer](https://tensorflow.org/hub/tutorials/tf2_arbitrary_image_stylization): Use deep learning to transfer style between images.\n",
        "- [Multilingual Universal Sentence Encoder Q&A](https://tensorflow.org/hub/tutorials/retrieval_with_tf_hub_universal_encoder_qa): Use a machine learning model to answer questions from the SQuAD dataset.\n",
        "- [Video Interpolation](https://tensorflow.org/hub/tutorials/tweening_conv3d): Predict what happened in a video between the first and the last frame.\n"
      ]
    },
    {
      "cell_type": "markdown",
      "metadata": {
        "id": "H2uMWBRTZR75"
      },
      "source": [
        "**APPLYING REGRESSION MODEL TO OUR DATASET.**"
      ]
    },
    {
      "cell_type": "code",
      "metadata": {
        "id": "bCNnPsCTGnOh"
      },
      "source": [
        "import pandas as pd\r\n",
        "import numpy as np\r\n",
        "import matplotlib.pyplot as plt\r\n"
      ],
      "execution_count": 1,
      "outputs": []
    },
    {
      "cell_type": "markdown",
      "metadata": {
        "id": "0Rc1z5iQZbiw"
      },
      "source": [
        "**FIRST I UPLOAD MY CSV FILE TO READ MY DATA. L STORE MY DATA IN (DF).**"
      ]
    },
    {
      "cell_type": "code",
      "metadata": {
        "id": "lNG91gfHIKcb"
      },
      "source": [
        "df = pd.read_csv(\"/content/FuelConsumption.csv\")"
      ],
      "execution_count": 2,
      "outputs": []
    },
    {
      "cell_type": "code",
      "metadata": {
        "colab": {
          "base_uri": "https://localhost:8080/",
          "height": 859
        },
        "id": "2oyp1q1CIR0S",
        "outputId": "878baf64-fb07-460a-9139-0aba95973031"
      },
      "source": [
        "df.head(20)"
      ],
      "execution_count": 3,
      "outputs": [
        {
          "output_type": "execute_result",
          "data": {
            "text/html": [
              "<div>\n",
              "<style scoped>\n",
              "    .dataframe tbody tr th:only-of-type {\n",
              "        vertical-align: middle;\n",
              "    }\n",
              "\n",
              "    .dataframe tbody tr th {\n",
              "        vertical-align: top;\n",
              "    }\n",
              "\n",
              "    .dataframe thead th {\n",
              "        text-align: right;\n",
              "    }\n",
              "</style>\n",
              "<table border=\"1\" class=\"dataframe\">\n",
              "  <thead>\n",
              "    <tr style=\"text-align: right;\">\n",
              "      <th></th>\n",
              "      <th>MODELYEAR</th>\n",
              "      <th>MAKE</th>\n",
              "      <th>MODEL</th>\n",
              "      <th>VEHICLECLASS</th>\n",
              "      <th>ENGINESIZE</th>\n",
              "      <th>CYLINDERS</th>\n",
              "      <th>TRANSMISSION</th>\n",
              "      <th>FUELTYPE</th>\n",
              "      <th>FUELCONSUMPTION_CITY</th>\n",
              "      <th>FUELCONSUMPTION_HWY</th>\n",
              "      <th>FUELCONSUMPTION_COMB</th>\n",
              "      <th>FUELCONSUMPTION_COMB_MPG</th>\n",
              "      <th>CO2EMISSIONS</th>\n",
              "    </tr>\n",
              "  </thead>\n",
              "  <tbody>\n",
              "    <tr>\n",
              "      <th>0</th>\n",
              "      <td>2014</td>\n",
              "      <td>ACURA</td>\n",
              "      <td>ILX</td>\n",
              "      <td>COMPACT</td>\n",
              "      <td>2.0</td>\n",
              "      <td>4</td>\n",
              "      <td>AS5</td>\n",
              "      <td>Z</td>\n",
              "      <td>9.9</td>\n",
              "      <td>6.7</td>\n",
              "      <td>8.5</td>\n",
              "      <td>33</td>\n",
              "      <td>196</td>\n",
              "    </tr>\n",
              "    <tr>\n",
              "      <th>1</th>\n",
              "      <td>2014</td>\n",
              "      <td>ACURA</td>\n",
              "      <td>ILX</td>\n",
              "      <td>COMPACT</td>\n",
              "      <td>2.4</td>\n",
              "      <td>4</td>\n",
              "      <td>M6</td>\n",
              "      <td>Z</td>\n",
              "      <td>11.2</td>\n",
              "      <td>7.7</td>\n",
              "      <td>9.6</td>\n",
              "      <td>29</td>\n",
              "      <td>221</td>\n",
              "    </tr>\n",
              "    <tr>\n",
              "      <th>2</th>\n",
              "      <td>2014</td>\n",
              "      <td>ACURA</td>\n",
              "      <td>ILX HYBRID</td>\n",
              "      <td>COMPACT</td>\n",
              "      <td>1.5</td>\n",
              "      <td>4</td>\n",
              "      <td>AV7</td>\n",
              "      <td>Z</td>\n",
              "      <td>6.0</td>\n",
              "      <td>5.8</td>\n",
              "      <td>5.9</td>\n",
              "      <td>48</td>\n",
              "      <td>136</td>\n",
              "    </tr>\n",
              "    <tr>\n",
              "      <th>3</th>\n",
              "      <td>2014</td>\n",
              "      <td>ACURA</td>\n",
              "      <td>MDX 4WD</td>\n",
              "      <td>SUV - SMALL</td>\n",
              "      <td>3.5</td>\n",
              "      <td>6</td>\n",
              "      <td>AS6</td>\n",
              "      <td>Z</td>\n",
              "      <td>12.7</td>\n",
              "      <td>9.1</td>\n",
              "      <td>11.1</td>\n",
              "      <td>25</td>\n",
              "      <td>255</td>\n",
              "    </tr>\n",
              "    <tr>\n",
              "      <th>4</th>\n",
              "      <td>2014</td>\n",
              "      <td>ACURA</td>\n",
              "      <td>RDX AWD</td>\n",
              "      <td>SUV - SMALL</td>\n",
              "      <td>3.5</td>\n",
              "      <td>6</td>\n",
              "      <td>AS6</td>\n",
              "      <td>Z</td>\n",
              "      <td>12.1</td>\n",
              "      <td>8.7</td>\n",
              "      <td>10.6</td>\n",
              "      <td>27</td>\n",
              "      <td>244</td>\n",
              "    </tr>\n",
              "    <tr>\n",
              "      <th>5</th>\n",
              "      <td>2014</td>\n",
              "      <td>ACURA</td>\n",
              "      <td>RLX</td>\n",
              "      <td>MID-SIZE</td>\n",
              "      <td>3.5</td>\n",
              "      <td>6</td>\n",
              "      <td>AS6</td>\n",
              "      <td>Z</td>\n",
              "      <td>11.9</td>\n",
              "      <td>7.7</td>\n",
              "      <td>10.0</td>\n",
              "      <td>28</td>\n",
              "      <td>230</td>\n",
              "    </tr>\n",
              "    <tr>\n",
              "      <th>6</th>\n",
              "      <td>2014</td>\n",
              "      <td>ACURA</td>\n",
              "      <td>TL</td>\n",
              "      <td>MID-SIZE</td>\n",
              "      <td>3.5</td>\n",
              "      <td>6</td>\n",
              "      <td>AS6</td>\n",
              "      <td>Z</td>\n",
              "      <td>11.8</td>\n",
              "      <td>8.1</td>\n",
              "      <td>10.1</td>\n",
              "      <td>28</td>\n",
              "      <td>232</td>\n",
              "    </tr>\n",
              "    <tr>\n",
              "      <th>7</th>\n",
              "      <td>2014</td>\n",
              "      <td>ACURA</td>\n",
              "      <td>TL AWD</td>\n",
              "      <td>MID-SIZE</td>\n",
              "      <td>3.7</td>\n",
              "      <td>6</td>\n",
              "      <td>AS6</td>\n",
              "      <td>Z</td>\n",
              "      <td>12.8</td>\n",
              "      <td>9.0</td>\n",
              "      <td>11.1</td>\n",
              "      <td>25</td>\n",
              "      <td>255</td>\n",
              "    </tr>\n",
              "    <tr>\n",
              "      <th>8</th>\n",
              "      <td>2014</td>\n",
              "      <td>ACURA</td>\n",
              "      <td>TL AWD</td>\n",
              "      <td>MID-SIZE</td>\n",
              "      <td>3.7</td>\n",
              "      <td>6</td>\n",
              "      <td>M6</td>\n",
              "      <td>Z</td>\n",
              "      <td>13.4</td>\n",
              "      <td>9.5</td>\n",
              "      <td>11.6</td>\n",
              "      <td>24</td>\n",
              "      <td>267</td>\n",
              "    </tr>\n",
              "    <tr>\n",
              "      <th>9</th>\n",
              "      <td>2014</td>\n",
              "      <td>ACURA</td>\n",
              "      <td>TSX</td>\n",
              "      <td>COMPACT</td>\n",
              "      <td>2.4</td>\n",
              "      <td>4</td>\n",
              "      <td>AS5</td>\n",
              "      <td>Z</td>\n",
              "      <td>10.6</td>\n",
              "      <td>7.5</td>\n",
              "      <td>9.2</td>\n",
              "      <td>31</td>\n",
              "      <td>212</td>\n",
              "    </tr>\n",
              "    <tr>\n",
              "      <th>10</th>\n",
              "      <td>2014</td>\n",
              "      <td>ACURA</td>\n",
              "      <td>TSX</td>\n",
              "      <td>COMPACT</td>\n",
              "      <td>2.4</td>\n",
              "      <td>4</td>\n",
              "      <td>M6</td>\n",
              "      <td>Z</td>\n",
              "      <td>11.2</td>\n",
              "      <td>8.1</td>\n",
              "      <td>9.8</td>\n",
              "      <td>29</td>\n",
              "      <td>225</td>\n",
              "    </tr>\n",
              "    <tr>\n",
              "      <th>11</th>\n",
              "      <td>2014</td>\n",
              "      <td>ACURA</td>\n",
              "      <td>TSX</td>\n",
              "      <td>COMPACT</td>\n",
              "      <td>3.5</td>\n",
              "      <td>6</td>\n",
              "      <td>AS5</td>\n",
              "      <td>Z</td>\n",
              "      <td>12.1</td>\n",
              "      <td>8.3</td>\n",
              "      <td>10.4</td>\n",
              "      <td>27</td>\n",
              "      <td>239</td>\n",
              "    </tr>\n",
              "    <tr>\n",
              "      <th>12</th>\n",
              "      <td>2014</td>\n",
              "      <td>ASTON MARTIN</td>\n",
              "      <td>DB9</td>\n",
              "      <td>MINICOMPACT</td>\n",
              "      <td>5.9</td>\n",
              "      <td>12</td>\n",
              "      <td>A6</td>\n",
              "      <td>Z</td>\n",
              "      <td>18.0</td>\n",
              "      <td>12.6</td>\n",
              "      <td>15.6</td>\n",
              "      <td>18</td>\n",
              "      <td>359</td>\n",
              "    </tr>\n",
              "    <tr>\n",
              "      <th>13</th>\n",
              "      <td>2014</td>\n",
              "      <td>ASTON MARTIN</td>\n",
              "      <td>RAPIDE</td>\n",
              "      <td>SUBCOMPACT</td>\n",
              "      <td>5.9</td>\n",
              "      <td>12</td>\n",
              "      <td>A6</td>\n",
              "      <td>Z</td>\n",
              "      <td>18.0</td>\n",
              "      <td>12.6</td>\n",
              "      <td>15.6</td>\n",
              "      <td>18</td>\n",
              "      <td>359</td>\n",
              "    </tr>\n",
              "    <tr>\n",
              "      <th>14</th>\n",
              "      <td>2014</td>\n",
              "      <td>ASTON MARTIN</td>\n",
              "      <td>V8 VANTAGE</td>\n",
              "      <td>TWO-SEATER</td>\n",
              "      <td>4.7</td>\n",
              "      <td>8</td>\n",
              "      <td>AM7</td>\n",
              "      <td>Z</td>\n",
              "      <td>17.4</td>\n",
              "      <td>11.3</td>\n",
              "      <td>14.7</td>\n",
              "      <td>19</td>\n",
              "      <td>338</td>\n",
              "    </tr>\n",
              "    <tr>\n",
              "      <th>15</th>\n",
              "      <td>2014</td>\n",
              "      <td>ASTON MARTIN</td>\n",
              "      <td>V8 VANTAGE</td>\n",
              "      <td>TWO-SEATER</td>\n",
              "      <td>4.7</td>\n",
              "      <td>8</td>\n",
              "      <td>M6</td>\n",
              "      <td>Z</td>\n",
              "      <td>18.1</td>\n",
              "      <td>12.2</td>\n",
              "      <td>15.4</td>\n",
              "      <td>18</td>\n",
              "      <td>354</td>\n",
              "    </tr>\n",
              "    <tr>\n",
              "      <th>16</th>\n",
              "      <td>2014</td>\n",
              "      <td>ASTON MARTIN</td>\n",
              "      <td>V8 VANTAGE S</td>\n",
              "      <td>TWO-SEATER</td>\n",
              "      <td>4.7</td>\n",
              "      <td>8</td>\n",
              "      <td>AM7</td>\n",
              "      <td>Z</td>\n",
              "      <td>17.4</td>\n",
              "      <td>11.3</td>\n",
              "      <td>14.7</td>\n",
              "      <td>19</td>\n",
              "      <td>338</td>\n",
              "    </tr>\n",
              "    <tr>\n",
              "      <th>17</th>\n",
              "      <td>2014</td>\n",
              "      <td>ASTON MARTIN</td>\n",
              "      <td>V8 VANTAGE S</td>\n",
              "      <td>TWO-SEATER</td>\n",
              "      <td>4.7</td>\n",
              "      <td>8</td>\n",
              "      <td>M6</td>\n",
              "      <td>Z</td>\n",
              "      <td>18.1</td>\n",
              "      <td>12.2</td>\n",
              "      <td>15.4</td>\n",
              "      <td>18</td>\n",
              "      <td>354</td>\n",
              "    </tr>\n",
              "    <tr>\n",
              "      <th>18</th>\n",
              "      <td>2014</td>\n",
              "      <td>ASTON MARTIN</td>\n",
              "      <td>VANQUISH</td>\n",
              "      <td>MINICOMPACT</td>\n",
              "      <td>5.9</td>\n",
              "      <td>12</td>\n",
              "      <td>A6</td>\n",
              "      <td>Z</td>\n",
              "      <td>18.0</td>\n",
              "      <td>12.6</td>\n",
              "      <td>15.6</td>\n",
              "      <td>18</td>\n",
              "      <td>359</td>\n",
              "    </tr>\n",
              "    <tr>\n",
              "      <th>19</th>\n",
              "      <td>2014</td>\n",
              "      <td>AUDI</td>\n",
              "      <td>A4</td>\n",
              "      <td>COMPACT</td>\n",
              "      <td>2.0</td>\n",
              "      <td>4</td>\n",
              "      <td>AV8</td>\n",
              "      <td>Z</td>\n",
              "      <td>9.9</td>\n",
              "      <td>7.4</td>\n",
              "      <td>8.8</td>\n",
              "      <td>32</td>\n",
              "      <td>202</td>\n",
              "    </tr>\n",
              "  </tbody>\n",
              "</table>\n",
              "</div>"
            ],
            "text/plain": [
              "    MODELYEAR          MAKE  ... FUELCONSUMPTION_COMB_MPG CO2EMISSIONS\n",
              "0        2014         ACURA  ...                       33          196\n",
              "1        2014         ACURA  ...                       29          221\n",
              "2        2014         ACURA  ...                       48          136\n",
              "3        2014         ACURA  ...                       25          255\n",
              "4        2014         ACURA  ...                       27          244\n",
              "5        2014         ACURA  ...                       28          230\n",
              "6        2014         ACURA  ...                       28          232\n",
              "7        2014         ACURA  ...                       25          255\n",
              "8        2014         ACURA  ...                       24          267\n",
              "9        2014         ACURA  ...                       31          212\n",
              "10       2014         ACURA  ...                       29          225\n",
              "11       2014         ACURA  ...                       27          239\n",
              "12       2014  ASTON MARTIN  ...                       18          359\n",
              "13       2014  ASTON MARTIN  ...                       18          359\n",
              "14       2014  ASTON MARTIN  ...                       19          338\n",
              "15       2014  ASTON MARTIN  ...                       18          354\n",
              "16       2014  ASTON MARTIN  ...                       19          338\n",
              "17       2014  ASTON MARTIN  ...                       18          354\n",
              "18       2014  ASTON MARTIN  ...                       18          359\n",
              "19       2014          AUDI  ...                       32          202\n",
              "\n",
              "[20 rows x 13 columns]"
            ]
          },
          "metadata": {
            "tags": []
          },
          "execution_count": 3
        }
      ]
    },
    {
      "cell_type": "code",
      "metadata": {
        "colab": {
          "base_uri": "https://localhost:8080/"
        },
        "id": "2Nr7y4MsIY46",
        "outputId": "8d3095da-d083-4242-d88b-f15f36039ad0"
      },
      "source": [
        "df.describe"
      ],
      "execution_count": 4,
      "outputs": [
        {
          "output_type": "execute_result",
          "data": {
            "text/plain": [
              "<bound method NDFrame.describe of       MODELYEAR   MAKE  ... FUELCONSUMPTION_COMB_MPG CO2EMISSIONS\n",
              "0          2014  ACURA  ...                       33          196\n",
              "1          2014  ACURA  ...                       29          221\n",
              "2          2014  ACURA  ...                       48          136\n",
              "3          2014  ACURA  ...                       25          255\n",
              "4          2014  ACURA  ...                       27          244\n",
              "...         ...    ...  ...                      ...          ...\n",
              "1062       2014  VOLVO  ...                       24          271\n",
              "1063       2014  VOLVO  ...                       25          264\n",
              "1064       2014  VOLVO  ...                       24          271\n",
              "1065       2014  VOLVO  ...                       25          260\n",
              "1066       2014  VOLVO  ...                       22          294\n",
              "\n",
              "[1067 rows x 13 columns]>"
            ]
          },
          "metadata": {
            "tags": []
          },
          "execution_count": 4
        }
      ]
    },
    {
      "cell_type": "code",
      "metadata": {
        "colab": {
          "base_uri": "https://localhost:8080/"
        },
        "id": "bEQkJTrWIell",
        "outputId": "d8bf37cc-b5da-40d5-a862-f9db39d616d4"
      },
      "source": [
        "df.columns"
      ],
      "execution_count": 5,
      "outputs": [
        {
          "output_type": "execute_result",
          "data": {
            "text/plain": [
              "Index(['MODELYEAR', 'MAKE', 'MODEL', 'VEHICLECLASS', 'ENGINESIZE', 'CYLINDERS',\n",
              "       'TRANSMISSION', 'FUELTYPE', 'FUELCONSUMPTION_CITY',\n",
              "       'FUELCONSUMPTION_HWY', 'FUELCONSUMPTION_COMB',\n",
              "       'FUELCONSUMPTION_COMB_MPG', 'CO2EMISSIONS'],\n",
              "      dtype='object')"
            ]
          },
          "metadata": {
            "tags": []
          },
          "execution_count": 5
        }
      ]
    },
    {
      "cell_type": "markdown",
      "metadata": {
        "id": "LNMofltnZrqV"
      },
      "source": [
        "***APPLY THE FUNCTION OF REGRESSION.***"
      ]
    },
    {
      "cell_type": "code",
      "metadata": {
        "colab": {
          "base_uri": "https://localhost:8080/",
          "height": 359
        },
        "id": "g5eGa9g1Ikwc",
        "outputId": "6ccc84c8-a1f5-4704-af5d-314606a22e10"
      },
      "source": [
        "reg_df = df[['ENGINESIZE','CYLINDERS','FUELCONSUMPTION_COMB','CO2EMISSIONS']]\r\n",
        "reg_df.head(10)"
      ],
      "execution_count": 7,
      "outputs": [
        {
          "output_type": "execute_result",
          "data": {
            "text/html": [
              "<div>\n",
              "<style scoped>\n",
              "    .dataframe tbody tr th:only-of-type {\n",
              "        vertical-align: middle;\n",
              "    }\n",
              "\n",
              "    .dataframe tbody tr th {\n",
              "        vertical-align: top;\n",
              "    }\n",
              "\n",
              "    .dataframe thead th {\n",
              "        text-align: right;\n",
              "    }\n",
              "</style>\n",
              "<table border=\"1\" class=\"dataframe\">\n",
              "  <thead>\n",
              "    <tr style=\"text-align: right;\">\n",
              "      <th></th>\n",
              "      <th>ENGINESIZE</th>\n",
              "      <th>CYLINDERS</th>\n",
              "      <th>FUELCONSUMPTION_COMB</th>\n",
              "      <th>CO2EMISSIONS</th>\n",
              "    </tr>\n",
              "  </thead>\n",
              "  <tbody>\n",
              "    <tr>\n",
              "      <th>0</th>\n",
              "      <td>2.0</td>\n",
              "      <td>4</td>\n",
              "      <td>8.5</td>\n",
              "      <td>196</td>\n",
              "    </tr>\n",
              "    <tr>\n",
              "      <th>1</th>\n",
              "      <td>2.4</td>\n",
              "      <td>4</td>\n",
              "      <td>9.6</td>\n",
              "      <td>221</td>\n",
              "    </tr>\n",
              "    <tr>\n",
              "      <th>2</th>\n",
              "      <td>1.5</td>\n",
              "      <td>4</td>\n",
              "      <td>5.9</td>\n",
              "      <td>136</td>\n",
              "    </tr>\n",
              "    <tr>\n",
              "      <th>3</th>\n",
              "      <td>3.5</td>\n",
              "      <td>6</td>\n",
              "      <td>11.1</td>\n",
              "      <td>255</td>\n",
              "    </tr>\n",
              "    <tr>\n",
              "      <th>4</th>\n",
              "      <td>3.5</td>\n",
              "      <td>6</td>\n",
              "      <td>10.6</td>\n",
              "      <td>244</td>\n",
              "    </tr>\n",
              "    <tr>\n",
              "      <th>5</th>\n",
              "      <td>3.5</td>\n",
              "      <td>6</td>\n",
              "      <td>10.0</td>\n",
              "      <td>230</td>\n",
              "    </tr>\n",
              "    <tr>\n",
              "      <th>6</th>\n",
              "      <td>3.5</td>\n",
              "      <td>6</td>\n",
              "      <td>10.1</td>\n",
              "      <td>232</td>\n",
              "    </tr>\n",
              "    <tr>\n",
              "      <th>7</th>\n",
              "      <td>3.7</td>\n",
              "      <td>6</td>\n",
              "      <td>11.1</td>\n",
              "      <td>255</td>\n",
              "    </tr>\n",
              "    <tr>\n",
              "      <th>8</th>\n",
              "      <td>3.7</td>\n",
              "      <td>6</td>\n",
              "      <td>11.6</td>\n",
              "      <td>267</td>\n",
              "    </tr>\n",
              "    <tr>\n",
              "      <th>9</th>\n",
              "      <td>2.4</td>\n",
              "      <td>4</td>\n",
              "      <td>9.2</td>\n",
              "      <td>212</td>\n",
              "    </tr>\n",
              "  </tbody>\n",
              "</table>\n",
              "</div>"
            ],
            "text/plain": [
              "   ENGINESIZE  CYLINDERS  FUELCONSUMPTION_COMB  CO2EMISSIONS\n",
              "0         2.0          4                   8.5           196\n",
              "1         2.4          4                   9.6           221\n",
              "2         1.5          4                   5.9           136\n",
              "3         3.5          6                  11.1           255\n",
              "4         3.5          6                  10.6           244\n",
              "5         3.5          6                  10.0           230\n",
              "6         3.5          6                  10.1           232\n",
              "7         3.7          6                  11.1           255\n",
              "8         3.7          6                  11.6           267\n",
              "9         2.4          4                   9.2           212"
            ]
          },
          "metadata": {
            "tags": []
          },
          "execution_count": 7
        }
      ]
    },
    {
      "cell_type": "markdown",
      "metadata": {
        "id": "VCZHAmATZz_m"
      },
      "source": [
        "***DRAW THE SCATTER PLOT BETWEEN TWO VARIABLES TO CHECK THE REGREESION BETWEEN TWO VARIABLES WITH THE HELP OF GRAPH.***"
      ]
    },
    {
      "cell_type": "code",
      "metadata": {
        "colab": {
          "base_uri": "https://localhost:8080/",
          "height": 280
        },
        "id": "0RHTSMOAJWLy",
        "outputId": "deeedea3-7f88-4f6c-c0c5-be12e3e85a3e"
      },
      "source": [
        "plt.scatter(reg_df.ENGINESIZE,reg_df.CO2EMISSIONS, color='red')\r\n",
        "plt.xlabel('Engine Size')\r\n",
        "plt.ylabel('CO2 emission')\r\n",
        "plt.show()"
      ],
      "execution_count": 8,
      "outputs": [
        {
          "output_type": "display_data",
          "data": {
            "image/png": "[encoded data removed]",
            "text/plain": [
              "<Figure size 432x288 with 1 Axes>"
            ]
          },
          "metadata": {
            "tags": [],
            "needs_background": "light"
          }
        }
      ]
    },
    {
      "cell_type": "markdown",
      "metadata": {
        "id": "REXJjwaWaEB9"
      },
      "source": [
        "***I CHECK ANOTHER REGRESSION BETWEEN THESE TWO VARIABLES.***"
      ]
    },
    {
      "cell_type": "code",
      "metadata": {
        "colab": {
          "base_uri": "https://localhost:8080/",
          "height": 279
        },
        "id": "CNgHwsAzKW4l",
        "outputId": "75c4c10e-d7ee-405f-af74-3fe9a80ae586"
      },
      "source": [
        "plt.scatter(reg_df.FUELCONSUMPTION_COMB,reg_df.CYLINDERS,color='blue')\r\n",
        "plt.xlabel('Fuel Consumption')\r\n",
        "plt.ylabel('Cylinders')\r\n",
        "plt.show()"
      ],
      "execution_count": 9,
      "outputs": [
        {
          "output_type": "display_data",
          "data": {
            "image/png": "[encoded data removed]",
            "text/plain": [
              "<Figure size 432x288 with 1 Axes>"
            ]
          },
          "metadata": {
            "tags": [],
            "needs_background": "light"
          }
        }
      ]
    },
    {
      "cell_type": "markdown",
      "metadata": {
        "id": "jIAD3qFZaRnt"
      },
      "source": [
        "***THEN I DO TESTING AND TRANING TO MY DATA.***"
      ]
    },
    {
      "cell_type": "code",
      "metadata": {
        "id": "FEHxPpXqK0lT"
      },
      "source": [
        "indx = np.random.rand(len(reg_df)) < 0.8\r\n",
        "train = reg_df[indx]\r\n",
        "test = reg_df[~indx]"
      ],
      "execution_count": 10,
      "outputs": []
    },
    {
      "cell_type": "markdown",
      "metadata": {
        "id": "72DmT3fNgJ5f"
      },
      "source": [
        ""
      ]
    },
    {
      "cell_type": "code",
      "metadata": {
        "colab": {
          "base_uri": "https://localhost:8080/"
        },
        "id": "RKNTWKtkLlP2",
        "outputId": "41478a46-607e-4f6a-fd0b-f06454f92c49"
      },
      "source": [
        "train.shape"
      ],
      "execution_count": 11,
      "outputs": [
        {
          "output_type": "execute_result",
          "data": {
            "text/plain": [
              "(841, 4)"
            ]
          },
          "metadata": {
            "tags": []
          },
          "execution_count": 11
        }
      ]
    },
    {
      "cell_type": "markdown",
      "metadata": {
        "id": "-9pakUmCgPfY"
      },
      "source": [
        "***APPLY LINEAR REGRESSION MODEL AND CHECK THE ACCURACY ON THIS MODEL.***"
      ]
    },
    {
      "cell_type": "code",
      "metadata": {
        "id": "VP5_vGaGLoL3"
      },
      "source": [
        "from sklearn import linear_model\r\n",
        "lreg = linear_model.LinearRegression()"
      ],
      "execution_count": 12,
      "outputs": []
    },
    {
      "cell_type": "code",
      "metadata": {
        "colab": {
          "base_uri": "https://localhost:8080/"
        },
        "id": "bHix7pGiL_DE",
        "outputId": "a5f8ad3b-d591-4773-e544-0bd335939c5f"
      },
      "source": [
        "train_x = np.asanyarray(train['FUELCONSUMPTION_COMB'])\r\n",
        "train_y = np.asanyarray(train['CO2EMISSIONS'])\r\n",
        "lreg.fit(train_x.reshape(-1,1),train_y)\r\n"
      ],
      "execution_count": 13,
      "outputs": [
        {
          "output_type": "execute_result",
          "data": {
            "text/plain": [
              "LinearRegression(copy_X=True, fit_intercept=True, n_jobs=None, normalize=False)"
            ]
          },
          "metadata": {
            "tags": []
          },
          "execution_count": 13
        }
      ]
    },
    {
      "cell_type": "code",
      "metadata": {
        "colab": {
          "base_uri": "https://localhost:8080/"
        },
        "id": "SOA2IERcMzwD",
        "outputId": "3bd7cd5e-9c58-4197-90bd-9b3d47586613"
      },
      "source": [
        "print('Theta-0:', lreg.coef_)\r\n",
        "print('Intercept:', lreg.intercept_)"
      ],
      "execution_count": 14,
      "outputs": [
        {
          "output_type": "stream",
          "text": [
            "Theta-0: [16.7077416]\n",
            "Intercept: 63.74379512721816\n"
          ],
          "name": "stdout"
        }
      ]
    },
    {
      "cell_type": "code",
      "metadata": {
        "colab": {
          "base_uri": "https://localhost:8080/"
        },
        "id": "M8oZcTFwNc4n",
        "outputId": "0e0ac2b7-0406-44c0-9127-512fc332aa2d"
      },
      "source": [
        "y_hat = lreg.predict([[2.4]])\r\n",
        "y_hat"
      ],
      "execution_count": 15,
      "outputs": [
        {
          "output_type": "execute_result",
          "data": {
            "text/plain": [
              "array([103.84237497])"
            ]
          },
          "metadata": {
            "tags": []
          },
          "execution_count": 15
        }
      ]
    },
    {
      "cell_type": "code",
      "metadata": {
        "colab": {
          "base_uri": "https://localhost:8080/"
        },
        "id": "j0DtAGxxNp9W",
        "outputId": "a1d1666f-e005-44de-9b06-23eef7771e20"
      },
      "source": [
        "test_x = np.asanyarray(test['FUELCONSUMPTION_COMB'])\r\n",
        "test_x = np.asanyarray(test['CO2EMISSIONS'])\r\n",
        "test_y_hat = lreg.predict(test_x.reshape(-1,1))\r\n",
        "test_x"
      ],
      "execution_count": 16,
      "outputs": [
        {
          "output_type": "execute_result",
          "data": {
            "text/plain": [
              "array([221, 232, 338, 338, 202, 230, 224, 230, 246, 304, 336, 407, 409,\n",
              "       262, 285, 209, 380, 202, 181, 200, 221, 202, 213, 246, 292, 292,\n",
              "       338, 260, 253, 274, 278, 283, 264, 264, 228, 228, 235, 232, 340,\n",
              "       338, 258, 202, 189, 259, 347, 380, 344, 362, 380, 413, 200, 244,\n",
              "       235, 270, 324, 277, 191, 184, 182, 191, 193, 186, 237, 232, 230,\n",
              "       308, 237, 237, 251, 202, 195, 168, 264, 179, 156, 179, 350, 225,\n",
              "       264, 216, 346, 235, 274, 254, 288, 267, 294, 308, 288, 264, 294,\n",
              "       165, 184, 207, 251, 218, 283, 297, 347, 362, 271, 269, 290, 354,\n",
              "       317, 110, 166, 159, 172, 177, 177, 304, 264, 143, 214, 294, 271,\n",
              "       306, 290, 285, 280, 280, 290, 315, 225, 225, 235, 267, 250, 225,\n",
              "       225, 294, 191, 223, 193, 175, 205, 207, 334, 354, 278, 283, 253,\n",
              "       223, 244, 290, 297, 260, 207, 177, 161, 168, 168, 235, 221, 242,\n",
              "       308, 359, 363, 356, 292, 205, 361, 200, 179, 191, 184, 207, 191,\n",
              "       196, 283, 202, 264, 262, 214, 260, 292, 301, 253, 255, 246, 253,\n",
              "       239, 299, 225, 251, 297, 313, 354, 324, 269, 254, 359, 228, 184,\n",
              "       196, 221, 196, 258, 267, 225, 138, 156, 159, 264, 110, 306, 347,\n",
              "       230, 253, 260, 209, 225, 232, 197, 225, 186, 189, 207, 212, 225,\n",
              "       278, 267, 281, 223, 260])"
            ]
          },
          "metadata": {
            "tags": []
          },
          "execution_count": 16
        }
      ]
    },
    {
      "cell_type": "code",
      "metadata": {
        "colab": {
          "base_uri": "https://localhost:8080/"
        },
        "id": "srMhdyklOeHY",
        "outputId": "69669417-e133-468b-ebdb-1d99c2bd2f59"
      },
      "source": [
        "test_y_hat"
      ],
      "execution_count": 17,
      "outputs": [
        {
          "output_type": "execute_result",
          "data": {
            "text/plain": [
              "array([3756.15468919, 3939.93984681, 5710.96045664, 5710.96045664,\n",
              "       3438.70759875, 3906.52436361, 3806.277914  , 3906.52436361,\n",
              "       4173.84822924, 5142.89724217, 5677.54497343, 6863.79462718,\n",
              "       6897.21011039, 4441.17209488, 4825.45015173, 3555.66178997,\n",
              "       6412.68560393, 3438.70759875, 3087.84502511, 3405.29211555,\n",
              "       3756.15468919, 3438.70759875, 3622.49275637, 4173.84822924,\n",
              "       4942.40434294, 4942.40434294, 5710.96045664, 4407.75661167,\n",
              "       4290.80242046, 4641.6649941 , 4708.49596051, 4792.03466852,\n",
              "       4474.58757808, 4474.58757808, 3873.10888041, 3873.10888041,\n",
              "       3990.06307162, 3939.93984681, 5744.37593984, 5710.96045664,\n",
              "       4374.34112847, 3438.70759875, 3221.50695792, 4391.04887007,\n",
              "       5861.33013106, 6412.68560393, 5811.20690625, 6111.94625509,\n",
              "       6412.68560393, 6964.0410768 , 3405.29211555, 4140.43274604,\n",
              "       3990.06307162, 4574.83402769, 5477.05207421, 4691.78821891,\n",
              "       3254.92244113, 3137.96824991, 3104.55276671, 3254.92244113,\n",
              "       3288.33792433, 3171.38373312, 4023.47855483, 3939.93984681,\n",
              "       3906.52436361, 5209.72820857, 4023.47855483, 4023.47855483,\n",
              "       4257.38693725, 3438.70759875, 3321.75340754, 2870.64438428,\n",
              "       4474.58757808, 3054.4295419 , 2670.15148506, 3054.4295419 ,\n",
              "       5911.45335586, 3822.9856556 , 4474.58757808, 3672.61598118,\n",
              "       5844.62238945, 3990.06307162, 4641.6649941 , 4307.51016206,\n",
              "       4875.57337653, 4524.71080289, 4975.81982615, 5209.72820857,\n",
              "       4875.57337653, 4474.58757808, 4975.81982615, 2820.52115947,\n",
              "       3137.96824991, 3522.24630676, 4257.38693725, 3706.03146439,\n",
              "       4792.03466852, 5025.94305095, 5861.33013106, 6111.94625509,\n",
              "       4591.5417693 , 4558.12628609, 4908.98885974, 5978.28432227,\n",
              "       5360.09788299, 1901.59537136, 2837.22890108, 2720.27470986,\n",
              "       2937.47535069, 3021.0140587 , 3021.0140587 , 5142.89724217,\n",
              "       4474.58757808, 2452.95084423, 3639.20049798, 4975.81982615,\n",
              "       4591.5417693 , 5176.31272537, 4908.98885974, 4825.45015173,\n",
              "       4741.91144372, 4741.91144372, 4908.98885974, 5326.68239979,\n",
              "       3822.9856556 , 3822.9856556 , 3990.06307162, 4524.71080289,\n",
              "       4240.67919565, 3822.9856556 , 3822.9856556 , 4975.81982615,\n",
              "       3254.92244113, 3789.5701724 , 3288.33792433, 2987.59857549,\n",
              "       3488.83082356, 3522.24630676, 5644.12949023, 5978.28432227,\n",
              "       4708.49596051, 4792.03466852, 4290.80242046, 3789.5701724 ,\n",
              "       4140.43274604, 4908.98885974, 5025.94305095, 4407.75661167,\n",
              "       3522.24630676, 3021.0140587 , 2753.69019307, 2870.64438428,\n",
              "       2870.64438428, 3990.06307162, 3756.15468919, 4107.01726284,\n",
              "       5209.72820857, 6061.82303028, 6128.65399669, 6011.69980548,\n",
              "       4942.40434294, 3488.83082356, 6095.23851349, 3405.29211555,\n",
              "       3054.4295419 , 3254.92244113, 3137.96824991, 3522.24630676,\n",
              "       3254.92244113, 3338.46114914, 4792.03466852, 3438.70759875,\n",
              "       4474.58757808, 4441.17209488, 3639.20049798, 4407.75661167,\n",
              "       4942.40434294, 5092.77401736, 4290.80242046, 4324.21790366,\n",
              "       4173.84822924, 4290.80242046, 4056.89403803, 5059.35853416,\n",
              "       3822.9856556 , 4257.38693725, 5025.94305095, 5293.26691659,\n",
              "       5978.28432227, 5477.05207421, 4558.12628609, 4307.51016206,\n",
              "       6061.82303028, 3873.10888041, 3137.96824991, 3338.46114914,\n",
              "       3756.15468919, 3338.46114914, 4374.34112847, 4524.71080289,\n",
              "       3822.9856556 , 2369.41213622, 2670.15148506, 2720.27470986,\n",
              "       4474.58757808, 1901.59537136, 5176.31272537, 5861.33013106,\n",
              "       3906.52436361, 4290.80242046, 4407.75661167, 3555.66178997,\n",
              "       3822.9856556 , 3939.93984681, 3355.16889074, 3822.9856556 ,\n",
              "       3171.38373312, 3221.50695792, 3522.24630676, 3605.78501477,\n",
              "       3822.9856556 , 4708.49596051, 4524.71080289, 4758.61918532,\n",
              "       3789.5701724 , 4407.75661167])"
            ]
          },
          "metadata": {
            "tags": []
          },
          "execution_count": 17
        }
      ]
    },
    {
      "cell_type": "code",
      "metadata": {
        "colab": {
          "base_uri": "https://localhost:8080/",
          "height": 265
        },
        "id": "TYZbPcDcOjx6",
        "outputId": "7e4a6544-925f-4863-b886-f96070dd4dbf"
      },
      "source": [
        "plt.scatter(train.FUELCONSUMPTION_COMB,train.CO2EMISSIONS, color='blue')\r\n",
        "plt.plot(test_x,test_y_hat, 'r-')\r\n",
        "plt.show()"
      ],
      "execution_count": 19,
      "outputs": [
        {
          "output_type": "display_data",
          "data": {
            "image/png": "[encoded data removed]",
            "text/plain": [
              "<Figure size 432x288 with 1 Axes>"
            ]
          },
          "metadata": {
            "tags": [],
            "needs_background": "light"
          }
        }
      ]
    },
    {
      "cell_type": "code",
      "metadata": {
        "colab": {
          "base_uri": "https://localhost:8080/"
        },
        "id": "8kYDKvKgPXL_",
        "outputId": "5ff77ec8-0e71-40a5-d8d2-e1aba7b9a36d"
      },
      "source": [
        "print('Residual Error (MSE): %2f'  %np.mean(test_x -test_y_hat) **2)"
      ],
      "execution_count": 27,
      "outputs": [
        {
          "output_type": "stream",
          "text": [
            "Residual Error (MSE): 16143717.142824\n"
          ],
          "name": "stdout"
        }
      ]
    },
    {
      "cell_type": "code",
      "metadata": {
        "colab": {
          "base_uri": "https://localhost:8080/"
        },
        "id": "nIROO8-iQ6cp",
        "outputId": "776401b8-a9f5-4185-969a-cc2843f1176b"
      },
      "source": [
        "from sklearn.metrics import r2_score\r\n",
        "print('R2 Score: %2f'%r2_score(test_x,test_y_hat))"
      ],
      "execution_count": 31,
      "outputs": [
        {
          "output_type": "stream",
          "text": [
            "R2 Score: -4905.325874\n"
          ],
          "name": "stdout"
        }
      ]
    }
  ]
}